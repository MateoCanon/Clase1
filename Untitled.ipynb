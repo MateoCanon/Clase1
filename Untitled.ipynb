{
 "cells": [
  {
   "cell_type": "markdown",
   "metadata": {},
   "source": [
    "### PRIMERA CLASE"
   ]
  },
  {
   "cell_type": "code",
   "execution_count": 27,
   "metadata": {},
   "outputs": [
    {
     "name": "stdout",
     "output_type": "stream",
     "text": [
      "Puede tomar cerveza\n"
     ]
    }
   ],
   "source": [
    "#Ejercicio 1\n",
    "#1.0\n",
    "\n",
    "edad = 18\n",
    "if edad >=18: #Prueba Logica\n",
    "    print(\"Puede tomar cerveza\")\n",
    "else:\n",
    "    print(\"NO puede tomar cerveza\")"
   ]
  },
  {
   "cell_type": "code",
   "execution_count": 28,
   "metadata": {},
   "outputs": [
    {
     "name": "stdout",
     "output_type": "stream",
     "text": [
      "Por favor ingrese la edad87\n",
      "Puede tomar cerveza\n"
     ]
    }
   ],
   "source": [
    "#2.0\n",
    "#El usuario pueda ingresar la edad por teclado\n",
    "\n",
    "edad = int(input(\"Por favor ingrese la edad\"))\n",
    "if edad >=18: #Prueba Logica\n",
    "    print(\"Puede tomar cerveza\")\n",
    "else:\n",
    "    print(\"NO puede tomar cerveza\")"
   ]
  },
  {
   "cell_type": "code",
   "execution_count": 53,
   "metadata": {},
   "outputs": [],
   "source": [
    "#3.0\n",
    "#Creacion de una funcion\n",
    "\n",
    "def ejercicio1(edad):\n",
    "    if edad >=18: #Prueba Logica\n",
    "        print(\"Puede tomar cerveza\")\n",
    "    else:\n",
    "        print(\"NO puede tomar cerveza\")"
   ]
  },
  {
   "cell_type": "code",
   "execution_count": 61,
   "metadata": {},
   "outputs": [
    {
     "name": "stdout",
     "output_type": "stream",
     "text": [
      "Por favor ingrese la edad17\n",
      "NO puede tomar cerveza\n"
     ]
    }
   ],
   "source": [
    "ejercicio1(int(input(\"Por favor ingrese la edad\")))"
   ]
  },
  {
   "cell_type": "markdown",
   "metadata": {},
   "source": [
    "  ### Ejercicio 2"
   ]
  },
  {
   "cell_type": "code",
   "execution_count": 64,
   "metadata": {},
   "outputs": [
    {
     "name": "stdout",
     "output_type": "stream",
     "text": [
      "Compro budweiser\n"
     ]
    }
   ],
   "source": [
    "#Ejercicio 2\n",
    "#Ejercicio 2.0\n",
    "\n",
    "marca = 'budweiser'\n",
    "\n",
    "if marca == 'budweiser':\n",
    "    print('Compro', marca)\n",
    "elif marca == 'aguila':\n",
    "    print('Compro', marca)\n",
    "else:\n",
    "    print('No compro nada')"
   ]
  },
  {
   "cell_type": "code",
   "execution_count": 60,
   "metadata": {},
   "outputs": [
    {
     "name": "stdout",
     "output_type": "stream",
     "text": [
      "La trm del dia es3500\n"
     ]
    }
   ],
   "source": [
    "TRM = 3500\n",
    "\n",
    "print(\"La trm del dia es\"+ str (TRM))\n"
   ]
  },
  {
   "cell_type": "code",
   "execution_count": 66,
   "metadata": {},
   "outputs": [
    {
     "name": "stdout",
     "output_type": "stream",
     "text": [
      "Compro Budweiser\n"
     ]
    }
   ],
   "source": [
    "#Ejercicio 2.1\n",
    "# Estandarizacion de datos\n",
    "\n",
    "marca = 'Budweiser'\n",
    "\n",
    "if marca.lower() == 'budweiser':\n",
    "    print('Compro', marca)\n",
    "elif marca.lower() == 'aguila':\n",
    "    print('Compro', marca)\n",
    "else:\n",
    "    print('No compro nada')"
   ]
  },
  {
   "cell_type": "code",
   "execution_count": 65,
   "metadata": {},
   "outputs": [
    {
     "name": "stdout",
     "output_type": "stream",
     "text": [
      "aguila\n",
      "AGUILA\n"
     ]
    }
   ],
   "source": [
    "marca = 'AGUILA'\n",
    "print(marca.lower())\n",
    "marca2 = 'aguila'\n",
    "print(marca2.upper())"
   ]
  },
  {
   "cell_type": "code",
   "execution_count": 69,
   "metadata": {},
   "outputs": [
    {
     "name": "stdout",
     "output_type": "stream",
     "text": [
      "Ingrese la marcabudweiser\n",
      "Compro budweiser\n"
     ]
    }
   ],
   "source": [
    "#Ejercicio 2.2 \n",
    "#Ingreso de la marca por teclado\n",
    "\n",
    "marca = input('Ingrese la marca')\n",
    "\n",
    "if marca.lower() == 'budweiser':\n",
    "    print('Compro', marca)\n",
    "elif marca.lower() == 'aguila':\n",
    "    print('Compro', marca)\n",
    "else:\n",
    "    print('No compro nada')"
   ]
  },
  {
   "cell_type": "code",
   "execution_count": 72,
   "metadata": {},
   "outputs": [],
   "source": [
    "#Ejercicio 2.3\n",
    "\n",
    "def SeleccionCompra():\n",
    "    marca = input('Ingrese la marca')\n",
    "\n",
    "    if marca.lower() == 'budweiser':\n",
    "        print('Compro', marca)\n",
    "    elif marca.lower() == 'aguila':\n",
    "        print('Compro', marca)\n",
    "    else:\n",
    "        print('No compro nada')"
   ]
  },
  {
   "cell_type": "code",
   "execution_count": 73,
   "metadata": {},
   "outputs": [
    {
     "name": "stdout",
     "output_type": "stream",
     "text": [
      "Ingrese la marcaaguila\n",
      "Compro aguila\n"
     ]
    }
   ],
   "source": [
    "SeleccionCompra()"
   ]
  },
  {
   "cell_type": "code",
   "execution_count": null,
   "metadata": {},
   "outputs": [],
   "source": []
  },
  {
   "cell_type": "code",
   "execution_count": null,
   "metadata": {},
   "outputs": [],
   "source": []
  }
 ],
 "metadata": {
  "kernelspec": {
   "display_name": "Python 3",
   "language": "python",
   "name": "python3"
  },
  "language_info": {
   "codemirror_mode": {
    "name": "ipython",
    "version": 3
   },
   "file_extension": ".py",
   "mimetype": "text/x-python",
   "name": "python",
   "nbconvert_exporter": "python",
   "pygments_lexer": "ipython3",
   "version": "3.8.5"
  }
 },
 "nbformat": 4,
 "nbformat_minor": 4
}
